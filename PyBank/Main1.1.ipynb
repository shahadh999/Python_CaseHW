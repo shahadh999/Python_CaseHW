{
 "cells": [
  {
   "cell_type": "code",
   "execution_count": 30,
   "metadata": {},
   "outputs": [
    {
     "name": "stdout",
     "output_type": "stream",
     "text": [
      "<_csv.reader object at 0x000001FDC9811B80>\n",
      "['Date', 'Profit_Losses', 'Change']\n"
     ]
    },
    {
     "ename": "ValueError",
     "evalue": "invalid literal for int() with base 10: 'Profit_Losses'",
     "output_type": "error",
     "traceback": [
      "\u001b[1;31m---------------------------------------------------------------------------\u001b[0m",
      "\u001b[1;31mValueError\u001b[0m                                Traceback (most recent call last)",
      "\u001b[1;32m<ipython-input-30-819296b3b2f7>\u001b[0m in \u001b[0;36m<module>\u001b[1;34m\u001b[0m\n\u001b[0;32m     25\u001b[0m \u001b[1;33m\u001b[0m\u001b[0m\n\u001b[0;32m     26\u001b[0m         \u001b[0mDate\u001b[0m \u001b[1;33m=\u001b[0m \u001b[0mrow\u001b[0m\u001b[1;33m[\u001b[0m\u001b[1;36m0\u001b[0m\u001b[1;33m]\u001b[0m\u001b[1;33m\u001b[0m\u001b[1;33m\u001b[0m\u001b[0m\n\u001b[1;32m---> 27\u001b[1;33m         \u001b[0mProfit_Loss\u001b[0m \u001b[1;33m=\u001b[0m \u001b[0mint\u001b[0m\u001b[1;33m(\u001b[0m\u001b[0mrow\u001b[0m\u001b[1;33m[\u001b[0m\u001b[1;36m1\u001b[0m\u001b[1;33m]\u001b[0m\u001b[1;33m)\u001b[0m\u001b[1;33m\u001b[0m\u001b[1;33m\u001b[0m\u001b[0m\n\u001b[0m\u001b[0;32m     28\u001b[0m \u001b[1;33m\u001b[0m\u001b[0m\n\u001b[0;32m     29\u001b[0m \u001b[1;31m#Metric variables\u001b[0m\u001b[1;33m\u001b[0m\u001b[1;33m\u001b[0m\u001b[1;33m\u001b[0m\u001b[0m\n",
      "\u001b[1;31mValueError\u001b[0m: invalid literal for int() with base 10: 'Profit_Losses'"
     ]
    }
   ],
   "source": [
    "#importing budget data\n",
    "from pathlib import Path\n",
    "import csv\n",
    "\n",
    "#Setting file path and Reading files\n",
    "csvpath = (\"budget_data.csv\")\n",
    "\n",
    "# Initialize dictionary \n",
    "analysis = {}\n",
    "\n",
    "# Open the csv file as an object\n",
    "with open (csvpath, \"r\") as cvsfile:\n",
    "    \n",
    "    #Pass in the csv file to the csv.reader() function\n",
    "    \n",
    "    csvreader = csv.reader(cvsfile, delimiter=\",\")\n",
    "\n",
    "    print(csvreader)\n",
    "\n",
    "    for row in csvreader:\n",
    "        # Print the row\n",
    "        print(row)\n",
    "        \n",
    "        # Set the name, count and revenue variables\n",
    "        \n",
    "        Date = row[0]\n",
    "        Profit_Loss = int(row[1])\n",
    "      \n",
    "#Metric variables\n",
    "total_months = 0\n",
    "total_revenue = 0\n",
    "revenue = []\n",
    "previous_revenue = 0\n",
    "month_of_change = []\n",
    "revenue_change = 0\n",
    "greatest_decrease = [\"\", 9999999]\n",
    "greatest_increase = [\"\", 0]\n",
    "revenue_change_list = []\n",
    "revenue_average = 0\n",
    " \n",
    "#open the csv file\n",
    "with open('budget_data.csv') as csvfile:  \n",
    "    csvreader = csv.DictReader(csvfile)\n",
    "    \n",
    "    csv_header = next(csvreader)\n",
    "    # Print the header\n",
    "    print(csv_header)\n",
    "    #Loop through to find total months\n",
    "    for row in csvreader:\n",
    "\n",
    "        #Count the total of months\n",
    "        total_months += 1\n",
    "\n",
    "        #Calculate the total revenue over the entire period\n",
    "        total_revenue = total_revenue + int(row[\"Profit/Losses\"])\n",
    "\n",
    "        #Calculate the average change in revenue between months over the entire period\n",
    "        revenue_change = float(row[\"Profit/Losses\"])- previous_revenue\n",
    "        previous_revenue = float(row[\"Profit/Losses\"])\n",
    "        revenue_change_list = revenue_change_list + [revenue_change]\n",
    "        month_of_change = [month_of_change] + [row[\"Date\"]]\n",
    "       \n",
    "\n",
    "        #The greatest increase in revenue (date and amount) over the entire period\n",
    "        if revenue_change>greatest_increase[1]:\n",
    "            greatest_increase[1]= revenue_change\n",
    "            greatest_increase[0] = row['Date']\n",
    "\n",
    "        #The greatest decrease in revenue (date and amount) over the entire period\n",
    "        if revenue_change<greatest_decrease[1]:\n",
    "            greatest_decrease[1]= revenue_change\n",
    "            greatest_decrease[0] = row['Date']\n",
    "    revenue_average = sum(revenue_change_list)/len(revenue_change_list)\n",
    "\n",
    "#Print results\n",
    "    print(\"Financial Analysis\")\n",
    "    print(\"....................................................................................\")\n",
    "    print(\"total_months\")\n",
    "\n",
    "    print(\"Total: \" + \"$\" + str(sum(P)))\n",
    "\n",
    "    print(\"Average change: \" + \"$\" + str(revenue_average))\n",
    "\n",
    "    print(\"Greatest Increase in Profits: \" + str(months[revenue_change.index(max(revenue_change))+1]) + \" \" + \"$\" + str(greatest_increase))\n",
    "\n",
    "    print(\"Greatest Decrease in Profits: \" + str(months[revenue_change.index(min(revenue_change))+1]) + \" \" + \"$\" + str(greatest_decrease))\n",
    "    \n"
   ]
  },
  {
   "cell_type": "code",
   "execution_count": null,
   "metadata": {},
   "outputs": [],
   "source": []
  }
 ],
 "metadata": {
  "kernelspec": {
   "display_name": "Python 3",
   "language": "python",
   "name": "python3"
  },
  "language_info": {
   "codemirror_mode": {
    "name": "ipython",
    "version": 3
   },
   "file_extension": ".py",
   "mimetype": "text/x-python",
   "name": "python",
   "nbconvert_exporter": "python",
   "pygments_lexer": "ipython3",
   "version": "3.8.5"
  }
 },
 "nbformat": 4,
 "nbformat_minor": 4
}
