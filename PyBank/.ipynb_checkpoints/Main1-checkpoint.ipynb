{
 "cells": [
  {
   "cell_type": "code",
   "execution_count": 34,
   "metadata": {},
   "outputs": [
    {
     "name": "stdout",
     "output_type": "stream",
     "text": [
      "Financial Analysis\n",
      "--------------------------------------------\n",
      "Total number of months 86\n",
      "Total: $38382578\n",
      "Average $-2315.1176470588234\n",
      "Greatest increase in profits ['12-Feb', 1926159]\n",
      "Greatest decrease in profits ['13-Sep', -2196167]\n"
     ]
    }
   ],
   "source": [
    "#importing budget data\n",
    "from pathlib import Path\n",
    "import csv\n",
    "\n",
    "#Setting file path and Reading files\n",
    "budget_data=Path(\"budget_data.csv\")\n",
    "\n",
    "#Initialize variable to hold Profit/losses\n",
    "profit_losses = []\n",
    "profit_losses_dict={}\n",
    "\n",
    "#Initialize variables\n",
    "count = 0\n",
    "max_profit = 0\n",
    "min_profit = 0\n",
    "num_months = 0\n",
    "net_total = 0\n",
    "average = 0\n",
    "maximum = 0\n",
    "minimum = 0\n",
    "max_date = []\n",
    "min_date = []\n",
    "previous_revenue = 0\n",
    "counter = 0\n",
    "total = 0\n",
    "\n",
    "#open input path as file object with \n",
    "with open (budget_data, 'r') as csvfile:\n",
    "    rows = csv.reader(csvfile, delimiter=\",\")\n",
    "    header = next(rows)\n",
    "    profit_losses=list(rows)\n",
    "\n",
    "\n",
    "count=len(profit_losses)     \n",
    "   \n",
    "#Net total amount of Profit/Losses\n",
    "for pl in profit_losses:\n",
    "    revenue = int(pl[1])\n",
    "    if counter>0:\n",
    "        change = revenue - previous_revenue\n",
    "        profit_losses_dict[pl[0]] = change\n",
    "    net_total = net_total + revenue\n",
    "    counter+=1\n",
    "    previous_revenue = revenue\n",
    "    \n",
    "#calculating the average, greatest increase/decrease\n",
    "for key in profit_losses_dict.keys():\n",
    "    total += profit_losses_dict[key]\n",
    "    if profit_losses_dict[key]>=max_profit:\n",
    "        max_profit = profit_losses_dict[key]\n",
    "        max_date = [key,profit_losses_dict[key]]\n",
    "    elif profit_losses_dict[key]<min_profit:\n",
    "        min_profit = profit_losses_dict[key]\n",
    "        min_date = [key,profit_losses_dict[key]]\n",
    "\n",
    "average = total / len(profit_losses_dict)\n",
    "\n",
    "# #print the Results \n",
    "print(\"Financial Analysis\")\n",
    "print(\"--------------------------------------------\")\n",
    "print(f\"Total number of months {count}\")\n",
    "print(f\"Total: ${net_total}\")  \n",
    "print(f\"Average ${average}\")\n",
    "print(f\"Greatest increase in profits {max_date}\")\n",
    "print(f\"Greatest decrease in profits {min_date}\")\n",
    "\n",
    "\n"
   ]
  },
  {
   "cell_type": "code",
   "execution_count": null,
   "metadata": {},
   "outputs": [],
   "source": []
  }
 ],
 "metadata": {
  "kernelspec": {
   "display_name": "Python 3",
   "language": "python",
   "name": "python3"
  },
  "language_info": {
   "codemirror_mode": {
    "name": "ipython",
    "version": 3
   },
   "file_extension": ".py",
   "mimetype": "text/x-python",
   "name": "python",
   "nbconvert_exporter": "python",
   "pygments_lexer": "ipython3",
   "version": "3.8.5"
  }
 },
 "nbformat": 4,
 "nbformat_minor": 4
}
