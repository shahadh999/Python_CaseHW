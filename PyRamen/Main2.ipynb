{
 "cells": [
  {
   "cell_type": "code",
   "execution_count": 6,
   "metadata": {},
   "outputs": [
    {
     "name": "stdout",
     "output_type": "stream",
     "text": [
      "{}\n",
      "['Line_Item_ID', 'Date', 'Credit_Card_Number', 'Quantity', 'Menu_Item']\n",
      "[['1', '01-01-2017', '7437926611570799', '1', 'spicy miso ramen'], ['2', '01-01-2017', '7437926611570799', '1', 'spicy miso ramen'], ['3', '01-01-2017', '8421920068932819', '3', 'tori paitan ramen'], ['4', '01-01-2017', '8421920068932819', '3', 'tori paitan ramen'], ['5', '01-01-2017', '4787310681569648', '1', 'truffle butter ramen']]\n"
     ]
    }
   ],
   "source": [
    "#PyRamen Homework#\n",
    "\n",
    "#Importing files\n",
    "import csv\n",
    "from pathlib import Path \n",
    "\n",
    "#Set path menu_data.csv and sales_data.csv\n",
    "menu_csv = Path('menu_data.csv')\n",
    "sales_csv = Path('sales_data.csv')\n",
    "\n",
    "\n",
    "# Establish variables\n",
    "menu = []\n",
    "sales = []\n",
    "report = {}\n",
    "quantity = []\n",
    "menu_item = []\n",
    "\n",
    "with open(menu_csv) as menu_data:\n",
    "\n",
    "    csv_reader_menu = csv.reader(menu_data, delimiter = ',')\n",
    "    \n",
    "    # loop through data and create menu list\n",
    "    for row in csv_reader_menu:\n",
    "        \n",
    "        menu.append(row)\n",
    "        \n",
    "    # Read sales data\n",
    "with open(sales_csv) as sales_data:\n",
    "    \n",
    "    csv_reader_sales = csv.reader(sales_data, delimiter = ',')\n",
    "    \n",
    "    sales_header = next(csv_reader_sales)\n",
    "    \n",
    "    # loop through data and create sales list\n",
    "    for row in csv_reader_sales:\n",
    "        \n",
    "        sales.append(row)\n",
    "    \n",
    "    \n",
    "    \n",
    "    # create Quantity and Menu-Item lists\n",
    "for sale in sales:\n",
    "    quantity.append(sale[3])\n",
    "    menu_item.append(sale[4])\n",
    "    \n",
    "    \n",
    "    \n",
    "    \n",
    "    \n",
    "# Checkpoints    \n",
    "print(report)    \n",
    "print(sales_header)\n",
    "#print(menu[0:5])\n",
    "print(sales[0:5])\n",
    " "
   ]
  },
  {
   "cell_type": "code",
   "execution_count": null,
   "metadata": {},
   "outputs": [],
   "source": []
  },
  {
   "cell_type": "code",
   "execution_count": null,
   "metadata": {},
   "outputs": [],
   "source": []
  }
 ],
 "metadata": {
  "kernelspec": {
   "display_name": "Python 3",
   "language": "python",
   "name": "python3"
  },
  "language_info": {
   "codemirror_mode": {
    "name": "ipython",
    "version": 3
   },
   "file_extension": ".py",
   "mimetype": "text/x-python",
   "name": "python",
   "nbconvert_exporter": "python",
   "pygments_lexer": "ipython3",
   "version": "3.8.5"
  }
 },
 "nbformat": 4,
 "nbformat_minor": 4
}
