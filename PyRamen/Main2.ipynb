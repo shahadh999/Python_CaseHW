{
 "cells": [
  {
   "cell_type": "code",
   "execution_count": null,
   "metadata": {},
   "outputs": [],
   "source": [
    "#PyRamen Homework#\n",
    "\n",
    "#Importing files\n",
    "import menu\n",
    "from pathlib import path \n",
    "\n",
    "#Set path menu_data.csv and sales_data.csv\n",
    "menu_filepath = Path('')\n",
    "sales_filepath = Path('')\n",
    "\n",
    "#Setting variables\n",
    "menu = []\n",
    "sales = []\n"
   ]
  }
 ],
 "metadata": {
  "kernelspec": {
   "display_name": "Python 3",
   "language": "python",
   "name": "python3"
  },
  "language_info": {
   "codemirror_mode": {
    "name": "ipython",
    "version": 3
   },
   "file_extension": ".py",
   "mimetype": "text/x-python",
   "name": "python",
   "nbconvert_exporter": "python",
   "pygments_lexer": "ipython3",
   "version": "3.8.5"
  }
 },
 "nbformat": 4,
 "nbformat_minor": 4
}
